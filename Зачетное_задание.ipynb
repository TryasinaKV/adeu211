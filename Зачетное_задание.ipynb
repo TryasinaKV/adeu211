{
  "nbformat": 4,
  "nbformat_minor": 0,
  "metadata": {
    "colab": {
      "provenance": [],
      "authorship_tag": "ABX9TyO3tXdqHtSAmeJFtzGIbDKF",
      "include_colab_link": true
    },
    "kernelspec": {
      "name": "python3",
      "display_name": "Python 3"
    },
    "language_info": {
      "name": "python"
    }
  },
  "cells": [
    {
      "cell_type": "markdown",
      "metadata": {
        "id": "view-in-github",
        "colab_type": "text"
      },
      "source": [
        "<a href=\"https://colab.research.google.com/github/TryasinaKV/adeu211/blob/main/%D0%97%D0%B0%D1%87%D0%B5%D1%82%D0%BD%D0%BE%D0%B5_%D0%B7%D0%B0%D0%B4%D0%B0%D0%BD%D0%B8%D0%B5.ipynb\" target=\"_parent\"><img src=\"https://colab.research.google.com/assets/colab-badge.svg\" alt=\"Open In Colab\"/></a>"
      ]
    },
    {
      "cell_type": "markdown",
      "source": [
        "Датасет взят отсюда: https://www.kaggle.com/datasets/avipetrof/sale-of-apartments-in-modiin"
      ],
      "metadata": {
        "id": "hrp4bhAYqjPu"
      }
    },
    {
      "cell_type": "markdown",
      "source": [
        "Импортируем необходимые библиотеки"
      ],
      "metadata": {
        "id": "XnRlu63YZPQo"
      }
    },
    {
      "cell_type": "code",
      "execution_count": 1,
      "metadata": {
        "id": "rSvUJdgquRZP"
      },
      "outputs": [],
      "source": [
        "import numpy as np\n",
        "import pandas as pd\n",
        "import matplotlib.pyplot as plt\n",
        "import seaborn as sns\n",
        "%matplotlib inline\n",
        "import warnings\n",
        "warnings.filterwarnings(\"ignore\")"
      ]
    },
    {
      "cell_type": "code",
      "source": [
        "from google.colab import files\n",
        "uploaded = files.upload()"
      ],
      "metadata": {
        "colab": {
          "base_uri": "https://localhost:8080/",
          "height": 73
        },
        "id": "b2MIFR27wuYN",
        "outputId": "0618ba49-9330-4983-d37f-396029d00b05"
      },
      "execution_count": 2,
      "outputs": [
        {
          "output_type": "display_data",
          "data": {
            "text/plain": [
              "<IPython.core.display.HTML object>"
            ],
            "text/html": [
              "\n",
              "     <input type=\"file\" id=\"files-f9c5fdf0-1ec2-4e94-a0cb-373fc5047c90\" name=\"files[]\" multiple disabled\n",
              "        style=\"border:none\" />\n",
              "     <output id=\"result-f9c5fdf0-1ec2-4e94-a0cb-373fc5047c90\">\n",
              "      Upload widget is only available when the cell has been executed in the\n",
              "      current browser session. Please rerun this cell to enable.\n",
              "      </output>\n",
              "      <script>// Copyright 2017 Google LLC\n",
              "//\n",
              "// Licensed under the Apache License, Version 2.0 (the \"License\");\n",
              "// you may not use this file except in compliance with the License.\n",
              "// You may obtain a copy of the License at\n",
              "//\n",
              "//      http://www.apache.org/licenses/LICENSE-2.0\n",
              "//\n",
              "// Unless required by applicable law or agreed to in writing, software\n",
              "// distributed under the License is distributed on an \"AS IS\" BASIS,\n",
              "// WITHOUT WARRANTIES OR CONDITIONS OF ANY KIND, either express or implied.\n",
              "// See the License for the specific language governing permissions and\n",
              "// limitations under the License.\n",
              "\n",
              "/**\n",
              " * @fileoverview Helpers for google.colab Python module.\n",
              " */\n",
              "(function(scope) {\n",
              "function span(text, styleAttributes = {}) {\n",
              "  const element = document.createElement('span');\n",
              "  element.textContent = text;\n",
              "  for (const key of Object.keys(styleAttributes)) {\n",
              "    element.style[key] = styleAttributes[key];\n",
              "  }\n",
              "  return element;\n",
              "}\n",
              "\n",
              "// Max number of bytes which will be uploaded at a time.\n",
              "const MAX_PAYLOAD_SIZE = 100 * 1024;\n",
              "\n",
              "function _uploadFiles(inputId, outputId) {\n",
              "  const steps = uploadFilesStep(inputId, outputId);\n",
              "  const outputElement = document.getElementById(outputId);\n",
              "  // Cache steps on the outputElement to make it available for the next call\n",
              "  // to uploadFilesContinue from Python.\n",
              "  outputElement.steps = steps;\n",
              "\n",
              "  return _uploadFilesContinue(outputId);\n",
              "}\n",
              "\n",
              "// This is roughly an async generator (not supported in the browser yet),\n",
              "// where there are multiple asynchronous steps and the Python side is going\n",
              "// to poll for completion of each step.\n",
              "// This uses a Promise to block the python side on completion of each step,\n",
              "// then passes the result of the previous step as the input to the next step.\n",
              "function _uploadFilesContinue(outputId) {\n",
              "  const outputElement = document.getElementById(outputId);\n",
              "  const steps = outputElement.steps;\n",
              "\n",
              "  const next = steps.next(outputElement.lastPromiseValue);\n",
              "  return Promise.resolve(next.value.promise).then((value) => {\n",
              "    // Cache the last promise value to make it available to the next\n",
              "    // step of the generator.\n",
              "    outputElement.lastPromiseValue = value;\n",
              "    return next.value.response;\n",
              "  });\n",
              "}\n",
              "\n",
              "/**\n",
              " * Generator function which is called between each async step of the upload\n",
              " * process.\n",
              " * @param {string} inputId Element ID of the input file picker element.\n",
              " * @param {string} outputId Element ID of the output display.\n",
              " * @return {!Iterable<!Object>} Iterable of next steps.\n",
              " */\n",
              "function* uploadFilesStep(inputId, outputId) {\n",
              "  const inputElement = document.getElementById(inputId);\n",
              "  inputElement.disabled = false;\n",
              "\n",
              "  const outputElement = document.getElementById(outputId);\n",
              "  outputElement.innerHTML = '';\n",
              "\n",
              "  const pickedPromise = new Promise((resolve) => {\n",
              "    inputElement.addEventListener('change', (e) => {\n",
              "      resolve(e.target.files);\n",
              "    });\n",
              "  });\n",
              "\n",
              "  const cancel = document.createElement('button');\n",
              "  inputElement.parentElement.appendChild(cancel);\n",
              "  cancel.textContent = 'Cancel upload';\n",
              "  const cancelPromise = new Promise((resolve) => {\n",
              "    cancel.onclick = () => {\n",
              "      resolve(null);\n",
              "    };\n",
              "  });\n",
              "\n",
              "  // Wait for the user to pick the files.\n",
              "  const files = yield {\n",
              "    promise: Promise.race([pickedPromise, cancelPromise]),\n",
              "    response: {\n",
              "      action: 'starting',\n",
              "    }\n",
              "  };\n",
              "\n",
              "  cancel.remove();\n",
              "\n",
              "  // Disable the input element since further picks are not allowed.\n",
              "  inputElement.disabled = true;\n",
              "\n",
              "  if (!files) {\n",
              "    return {\n",
              "      response: {\n",
              "        action: 'complete',\n",
              "      }\n",
              "    };\n",
              "  }\n",
              "\n",
              "  for (const file of files) {\n",
              "    const li = document.createElement('li');\n",
              "    li.append(span(file.name, {fontWeight: 'bold'}));\n",
              "    li.append(span(\n",
              "        `(${file.type || 'n/a'}) - ${file.size} bytes, ` +\n",
              "        `last modified: ${\n",
              "            file.lastModifiedDate ? file.lastModifiedDate.toLocaleDateString() :\n",
              "                                    'n/a'} - `));\n",
              "    const percent = span('0% done');\n",
              "    li.appendChild(percent);\n",
              "\n",
              "    outputElement.appendChild(li);\n",
              "\n",
              "    const fileDataPromise = new Promise((resolve) => {\n",
              "      const reader = new FileReader();\n",
              "      reader.onload = (e) => {\n",
              "        resolve(e.target.result);\n",
              "      };\n",
              "      reader.readAsArrayBuffer(file);\n",
              "    });\n",
              "    // Wait for the data to be ready.\n",
              "    let fileData = yield {\n",
              "      promise: fileDataPromise,\n",
              "      response: {\n",
              "        action: 'continue',\n",
              "      }\n",
              "    };\n",
              "\n",
              "    // Use a chunked sending to avoid message size limits. See b/62115660.\n",
              "    let position = 0;\n",
              "    do {\n",
              "      const length = Math.min(fileData.byteLength - position, MAX_PAYLOAD_SIZE);\n",
              "      const chunk = new Uint8Array(fileData, position, length);\n",
              "      position += length;\n",
              "\n",
              "      const base64 = btoa(String.fromCharCode.apply(null, chunk));\n",
              "      yield {\n",
              "        response: {\n",
              "          action: 'append',\n",
              "          file: file.name,\n",
              "          data: base64,\n",
              "        },\n",
              "      };\n",
              "\n",
              "      let percentDone = fileData.byteLength === 0 ?\n",
              "          100 :\n",
              "          Math.round((position / fileData.byteLength) * 100);\n",
              "      percent.textContent = `${percentDone}% done`;\n",
              "\n",
              "    } while (position < fileData.byteLength);\n",
              "  }\n",
              "\n",
              "  // All done.\n",
              "  yield {\n",
              "    response: {\n",
              "      action: 'complete',\n",
              "    }\n",
              "  };\n",
              "}\n",
              "\n",
              "scope.google = scope.google || {};\n",
              "scope.google.colab = scope.google.colab || {};\n",
              "scope.google.colab._files = {\n",
              "  _uploadFiles,\n",
              "  _uploadFilesContinue,\n",
              "};\n",
              "})(self);\n",
              "</script> "
            ]
          },
          "metadata": {}
        },
        {
          "output_type": "stream",
          "name": "stdout",
          "text": [
            "Saving modiin_2020.csv to modiin_2020.csv\n"
          ]
        }
      ]
    },
    {
      "cell_type": "markdown",
      "source": [
        "Читаем и выводим на экран данные по датасету"
      ],
      "metadata": {
        "id": "12n1xplvZq3R"
      }
    },
    {
      "cell_type": "code",
      "source": [
        "df = pd.read_csv(\"modiin_2020.csv\")\n",
        "df"
      ],
      "metadata": {
        "colab": {
          "base_uri": "https://localhost:8080/",
          "height": 424
        },
        "id": "NSiPaFfjxTpk",
        "outputId": "a318e2c6-7557-4ffb-c7d1-ac002385f9fe"
      },
      "execution_count": 3,
      "outputs": [
        {
          "output_type": "execute_result",
          "data": {
            "text/plain": [
              "                      ID        DATE    PRICE  PRICE_VALUE  \\\n",
              "0     005956-0091-005-18  01/06/2020  2330000      2330000   \n",
              "1     080073-0011-000-00  10/06/2020  1389146      1389146   \n",
              "2     080072-0026-000-00  15/06/2020  2114064      2114064   \n",
              "3     005569-0036-052-00  01/06/2020  2020000     20000000   \n",
              "4     080073-0029-002-00  01/06/2020  2152682      2152682   \n",
              "...                  ...         ...      ...          ...   \n",
              "1446  080072-0002-000-00  24/12/2020  2070132      2070132   \n",
              "1447  080072-0018-000-00  24/12/2020  2121033      2121033   \n",
              "1448  080072-0018-000-00  24/12/2020  2123854      2123854   \n",
              "1449  080072-0026-000-00  25/12/2020  2350000      2350000   \n",
              "1450  080073-0020-000-00  27/12/2020  1588668      1588668   \n",
              "\n",
              "                         TYPE  PART_SOLD    CITY  YEAR_building  sq_meter  \\\n",
              "0     Apartment in a building        1.0  modiin           2022       121   \n",
              "1     Apartment in a building        1.0  modiin           2020       108   \n",
              "2     Apartment in a building        1.0  modiin           2020       104   \n",
              "3     Apartment in a building        1.0  modiin           1997       100   \n",
              "4     Apartment in a building        1.0  modiin           2020       128   \n",
              "...                       ...        ...     ...            ...       ...   \n",
              "1446  Apartment in a building        1.0  modiin           2020       104   \n",
              "1447  Apartment in a building        1.0  modiin           2022       147   \n",
              "1448  Apartment in a building        1.0  modiin           2022       147   \n",
              "1449  Apartment in a building        1.0  modiin           2020       133   \n",
              "1450  Apartment in a building        1.0  modiin           2020        81   \n",
              "\n",
              "      ROOMS  \n",
              "0       5.0  \n",
              "1       4.0  \n",
              "2       4.0  \n",
              "3       3.0  \n",
              "4       5.0  \n",
              "...     ...  \n",
              "1446    4.0  \n",
              "1447    6.0  \n",
              "1448    6.0  \n",
              "1449    5.0  \n",
              "1450    3.0  \n",
              "\n",
              "[1451 rows x 10 columns]"
            ],
            "text/html": [
              "\n",
              "  <div id=\"df-f0efb4de-dc19-4875-b87d-0b16c79c391b\">\n",
              "    <div class=\"colab-df-container\">\n",
              "      <div>\n",
              "<style scoped>\n",
              "    .dataframe tbody tr th:only-of-type {\n",
              "        vertical-align: middle;\n",
              "    }\n",
              "\n",
              "    .dataframe tbody tr th {\n",
              "        vertical-align: top;\n",
              "    }\n",
              "\n",
              "    .dataframe thead th {\n",
              "        text-align: right;\n",
              "    }\n",
              "</style>\n",
              "<table border=\"1\" class=\"dataframe\">\n",
              "  <thead>\n",
              "    <tr style=\"text-align: right;\">\n",
              "      <th></th>\n",
              "      <th>ID</th>\n",
              "      <th>DATE</th>\n",
              "      <th>PRICE</th>\n",
              "      <th>PRICE_VALUE</th>\n",
              "      <th>TYPE</th>\n",
              "      <th>PART_SOLD</th>\n",
              "      <th>CITY</th>\n",
              "      <th>YEAR_building</th>\n",
              "      <th>sq_meter</th>\n",
              "      <th>ROOMS</th>\n",
              "    </tr>\n",
              "  </thead>\n",
              "  <tbody>\n",
              "    <tr>\n",
              "      <th>0</th>\n",
              "      <td>005956-0091-005-18</td>\n",
              "      <td>01/06/2020</td>\n",
              "      <td>2330000</td>\n",
              "      <td>2330000</td>\n",
              "      <td>Apartment in a building</td>\n",
              "      <td>1.0</td>\n",
              "      <td>modiin</td>\n",
              "      <td>2022</td>\n",
              "      <td>121</td>\n",
              "      <td>5.0</td>\n",
              "    </tr>\n",
              "    <tr>\n",
              "      <th>1</th>\n",
              "      <td>080073-0011-000-00</td>\n",
              "      <td>10/06/2020</td>\n",
              "      <td>1389146</td>\n",
              "      <td>1389146</td>\n",
              "      <td>Apartment in a building</td>\n",
              "      <td>1.0</td>\n",
              "      <td>modiin</td>\n",
              "      <td>2020</td>\n",
              "      <td>108</td>\n",
              "      <td>4.0</td>\n",
              "    </tr>\n",
              "    <tr>\n",
              "      <th>2</th>\n",
              "      <td>080072-0026-000-00</td>\n",
              "      <td>15/06/2020</td>\n",
              "      <td>2114064</td>\n",
              "      <td>2114064</td>\n",
              "      <td>Apartment in a building</td>\n",
              "      <td>1.0</td>\n",
              "      <td>modiin</td>\n",
              "      <td>2020</td>\n",
              "      <td>104</td>\n",
              "      <td>4.0</td>\n",
              "    </tr>\n",
              "    <tr>\n",
              "      <th>3</th>\n",
              "      <td>005569-0036-052-00</td>\n",
              "      <td>01/06/2020</td>\n",
              "      <td>2020000</td>\n",
              "      <td>20000000</td>\n",
              "      <td>Apartment in a building</td>\n",
              "      <td>1.0</td>\n",
              "      <td>modiin</td>\n",
              "      <td>1997</td>\n",
              "      <td>100</td>\n",
              "      <td>3.0</td>\n",
              "    </tr>\n",
              "    <tr>\n",
              "      <th>4</th>\n",
              "      <td>080073-0029-002-00</td>\n",
              "      <td>01/06/2020</td>\n",
              "      <td>2152682</td>\n",
              "      <td>2152682</td>\n",
              "      <td>Apartment in a building</td>\n",
              "      <td>1.0</td>\n",
              "      <td>modiin</td>\n",
              "      <td>2020</td>\n",
              "      <td>128</td>\n",
              "      <td>5.0</td>\n",
              "    </tr>\n",
              "    <tr>\n",
              "      <th>...</th>\n",
              "      <td>...</td>\n",
              "      <td>...</td>\n",
              "      <td>...</td>\n",
              "      <td>...</td>\n",
              "      <td>...</td>\n",
              "      <td>...</td>\n",
              "      <td>...</td>\n",
              "      <td>...</td>\n",
              "      <td>...</td>\n",
              "      <td>...</td>\n",
              "    </tr>\n",
              "    <tr>\n",
              "      <th>1446</th>\n",
              "      <td>080072-0002-000-00</td>\n",
              "      <td>24/12/2020</td>\n",
              "      <td>2070132</td>\n",
              "      <td>2070132</td>\n",
              "      <td>Apartment in a building</td>\n",
              "      <td>1.0</td>\n",
              "      <td>modiin</td>\n",
              "      <td>2020</td>\n",
              "      <td>104</td>\n",
              "      <td>4.0</td>\n",
              "    </tr>\n",
              "    <tr>\n",
              "      <th>1447</th>\n",
              "      <td>080072-0018-000-00</td>\n",
              "      <td>24/12/2020</td>\n",
              "      <td>2121033</td>\n",
              "      <td>2121033</td>\n",
              "      <td>Apartment in a building</td>\n",
              "      <td>1.0</td>\n",
              "      <td>modiin</td>\n",
              "      <td>2022</td>\n",
              "      <td>147</td>\n",
              "      <td>6.0</td>\n",
              "    </tr>\n",
              "    <tr>\n",
              "      <th>1448</th>\n",
              "      <td>080072-0018-000-00</td>\n",
              "      <td>24/12/2020</td>\n",
              "      <td>2123854</td>\n",
              "      <td>2123854</td>\n",
              "      <td>Apartment in a building</td>\n",
              "      <td>1.0</td>\n",
              "      <td>modiin</td>\n",
              "      <td>2022</td>\n",
              "      <td>147</td>\n",
              "      <td>6.0</td>\n",
              "    </tr>\n",
              "    <tr>\n",
              "      <th>1449</th>\n",
              "      <td>080072-0026-000-00</td>\n",
              "      <td>25/12/2020</td>\n",
              "      <td>2350000</td>\n",
              "      <td>2350000</td>\n",
              "      <td>Apartment in a building</td>\n",
              "      <td>1.0</td>\n",
              "      <td>modiin</td>\n",
              "      <td>2020</td>\n",
              "      <td>133</td>\n",
              "      <td>5.0</td>\n",
              "    </tr>\n",
              "    <tr>\n",
              "      <th>1450</th>\n",
              "      <td>080073-0020-000-00</td>\n",
              "      <td>27/12/2020</td>\n",
              "      <td>1588668</td>\n",
              "      <td>1588668</td>\n",
              "      <td>Apartment in a building</td>\n",
              "      <td>1.0</td>\n",
              "      <td>modiin</td>\n",
              "      <td>2020</td>\n",
              "      <td>81</td>\n",
              "      <td>3.0</td>\n",
              "    </tr>\n",
              "  </tbody>\n",
              "</table>\n",
              "<p>1451 rows × 10 columns</p>\n",
              "</div>\n",
              "      <button class=\"colab-df-convert\" onclick=\"convertToInteractive('df-f0efb4de-dc19-4875-b87d-0b16c79c391b')\"\n",
              "              title=\"Convert this dataframe to an interactive table.\"\n",
              "              style=\"display:none;\">\n",
              "        \n",
              "  <svg xmlns=\"http://www.w3.org/2000/svg\" height=\"24px\"viewBox=\"0 0 24 24\"\n",
              "       width=\"24px\">\n",
              "    <path d=\"M0 0h24v24H0V0z\" fill=\"none\"/>\n",
              "    <path d=\"M18.56 5.44l.94 2.06.94-2.06 2.06-.94-2.06-.94-.94-2.06-.94 2.06-2.06.94zm-11 1L8.5 8.5l.94-2.06 2.06-.94-2.06-.94L8.5 2.5l-.94 2.06-2.06.94zm10 10l.94 2.06.94-2.06 2.06-.94-2.06-.94-.94-2.06-.94 2.06-2.06.94z\"/><path d=\"M17.41 7.96l-1.37-1.37c-.4-.4-.92-.59-1.43-.59-.52 0-1.04.2-1.43.59L10.3 9.45l-7.72 7.72c-.78.78-.78 2.05 0 2.83L4 21.41c.39.39.9.59 1.41.59.51 0 1.02-.2 1.41-.59l7.78-7.78 2.81-2.81c.8-.78.8-2.07 0-2.86zM5.41 20L4 18.59l7.72-7.72 1.47 1.35L5.41 20z\"/>\n",
              "  </svg>\n",
              "      </button>\n",
              "      \n",
              "  <style>\n",
              "    .colab-df-container {\n",
              "      display:flex;\n",
              "      flex-wrap:wrap;\n",
              "      gap: 12px;\n",
              "    }\n",
              "\n",
              "    .colab-df-convert {\n",
              "      background-color: #E8F0FE;\n",
              "      border: none;\n",
              "      border-radius: 50%;\n",
              "      cursor: pointer;\n",
              "      display: none;\n",
              "      fill: #1967D2;\n",
              "      height: 32px;\n",
              "      padding: 0 0 0 0;\n",
              "      width: 32px;\n",
              "    }\n",
              "\n",
              "    .colab-df-convert:hover {\n",
              "      background-color: #E2EBFA;\n",
              "      box-shadow: 0px 1px 2px rgba(60, 64, 67, 0.3), 0px 1px 3px 1px rgba(60, 64, 67, 0.15);\n",
              "      fill: #174EA6;\n",
              "    }\n",
              "\n",
              "    [theme=dark] .colab-df-convert {\n",
              "      background-color: #3B4455;\n",
              "      fill: #D2E3FC;\n",
              "    }\n",
              "\n",
              "    [theme=dark] .colab-df-convert:hover {\n",
              "      background-color: #434B5C;\n",
              "      box-shadow: 0px 1px 3px 1px rgba(0, 0, 0, 0.15);\n",
              "      filter: drop-shadow(0px 1px 2px rgba(0, 0, 0, 0.3));\n",
              "      fill: #FFFFFF;\n",
              "    }\n",
              "  </style>\n",
              "\n",
              "      <script>\n",
              "        const buttonEl =\n",
              "          document.querySelector('#df-f0efb4de-dc19-4875-b87d-0b16c79c391b button.colab-df-convert');\n",
              "        buttonEl.style.display =\n",
              "          google.colab.kernel.accessAllowed ? 'block' : 'none';\n",
              "\n",
              "        async function convertToInteractive(key) {\n",
              "          const element = document.querySelector('#df-f0efb4de-dc19-4875-b87d-0b16c79c391b');\n",
              "          const dataTable =\n",
              "            await google.colab.kernel.invokeFunction('convertToInteractive',\n",
              "                                                     [key], {});\n",
              "          if (!dataTable) return;\n",
              "\n",
              "          const docLinkHtml = 'Like what you see? Visit the ' +\n",
              "            '<a target=\"_blank\" href=https://colab.research.google.com/notebooks/data_table.ipynb>data table notebook</a>'\n",
              "            + ' to learn more about interactive tables.';\n",
              "          element.innerHTML = '';\n",
              "          dataTable['output_type'] = 'display_data';\n",
              "          await google.colab.output.renderOutput(dataTable, element);\n",
              "          const docLink = document.createElement('div');\n",
              "          docLink.innerHTML = docLinkHtml;\n",
              "          element.appendChild(docLink);\n",
              "        }\n",
              "      </script>\n",
              "    </div>\n",
              "  </div>\n",
              "  "
            ]
          },
          "metadata": {},
          "execution_count": 3
        }
      ]
    },
    {
      "cell_type": "code",
      "source": [
        "df.info()\n",
        "print(df.isna().sum())\n",
        "df.describe()"
      ],
      "metadata": {
        "colab": {
          "base_uri": "https://localhost:8080/",
          "height": 786
        },
        "id": "soM2159Iylzt",
        "outputId": "72378280-7150-4b7d-d8d5-f0f4338732f2"
      },
      "execution_count": 4,
      "outputs": [
        {
          "output_type": "stream",
          "name": "stdout",
          "text": [
            "<class 'pandas.core.frame.DataFrame'>\n",
            "RangeIndex: 1451 entries, 0 to 1450\n",
            "Data columns (total 10 columns):\n",
            " #   Column         Non-Null Count  Dtype  \n",
            "---  ------         --------------  -----  \n",
            " 0   ID             1451 non-null   object \n",
            " 1   DATE           1451 non-null   object \n",
            " 2   PRICE          1451 non-null   int64  \n",
            " 3   PRICE_VALUE    1451 non-null   int64  \n",
            " 4   TYPE           1451 non-null   object \n",
            " 5   PART_SOLD      1451 non-null   float64\n",
            " 6   CITY           1451 non-null   object \n",
            " 7   YEAR_building  1451 non-null   int64  \n",
            " 8   sq_meter       1451 non-null   int64  \n",
            " 9   ROOMS          1451 non-null   float64\n",
            "dtypes: float64(2), int64(4), object(4)\n",
            "memory usage: 113.5+ KB\n",
            "ID               0\n",
            "DATE             0\n",
            "PRICE            0\n",
            "PRICE_VALUE      0\n",
            "TYPE             0\n",
            "PART_SOLD        0\n",
            "CITY             0\n",
            "YEAR_building    0\n",
            "sq_meter         0\n",
            "ROOMS            0\n",
            "dtype: int64\n"
          ]
        },
        {
          "output_type": "execute_result",
          "data": {
            "text/plain": [
              "              PRICE   PRICE_VALUE    PART_SOLD  YEAR_building     sq_meter  \\\n",
              "count  1.451000e+03  1.451000e+03  1451.000000    1451.000000  1451.000000   \n",
              "mean   1.750642e+06  1.763033e+06     0.947851    1883.753963   105.990351   \n",
              "std    7.052201e+05  8.525338e+05     0.179198     498.833165    38.577337   \n",
              "min    1.750000e+04  1.750000e+04     0.010000       0.000000     0.000000   \n",
              "25%    1.261812e+06  1.261812e+06     1.000000    2009.000000    83.000000   \n",
              "50%    1.628392e+06  1.628392e+06     1.000000    2020.000000   109.000000   \n",
              "75%    2.125000e+06  2.125547e+06     1.000000    2020.000000   127.000000   \n",
              "max    4.300000e+06  2.000000e+07     1.000000    2023.000000   261.000000   \n",
              "\n",
              "             ROOMS  \n",
              "count  1451.000000  \n",
              "mean      3.862164  \n",
              "std       1.345858  \n",
              "min       0.000000  \n",
              "25%       3.000000  \n",
              "50%       4.000000  \n",
              "75%       5.000000  \n",
              "max       8.000000  "
            ],
            "text/html": [
              "\n",
              "  <div id=\"df-0c7281df-2475-490a-b2c1-0962b201be83\">\n",
              "    <div class=\"colab-df-container\">\n",
              "      <div>\n",
              "<style scoped>\n",
              "    .dataframe tbody tr th:only-of-type {\n",
              "        vertical-align: middle;\n",
              "    }\n",
              "\n",
              "    .dataframe tbody tr th {\n",
              "        vertical-align: top;\n",
              "    }\n",
              "\n",
              "    .dataframe thead th {\n",
              "        text-align: right;\n",
              "    }\n",
              "</style>\n",
              "<table border=\"1\" class=\"dataframe\">\n",
              "  <thead>\n",
              "    <tr style=\"text-align: right;\">\n",
              "      <th></th>\n",
              "      <th>PRICE</th>\n",
              "      <th>PRICE_VALUE</th>\n",
              "      <th>PART_SOLD</th>\n",
              "      <th>YEAR_building</th>\n",
              "      <th>sq_meter</th>\n",
              "      <th>ROOMS</th>\n",
              "    </tr>\n",
              "  </thead>\n",
              "  <tbody>\n",
              "    <tr>\n",
              "      <th>count</th>\n",
              "      <td>1.451000e+03</td>\n",
              "      <td>1.451000e+03</td>\n",
              "      <td>1451.000000</td>\n",
              "      <td>1451.000000</td>\n",
              "      <td>1451.000000</td>\n",
              "      <td>1451.000000</td>\n",
              "    </tr>\n",
              "    <tr>\n",
              "      <th>mean</th>\n",
              "      <td>1.750642e+06</td>\n",
              "      <td>1.763033e+06</td>\n",
              "      <td>0.947851</td>\n",
              "      <td>1883.753963</td>\n",
              "      <td>105.990351</td>\n",
              "      <td>3.862164</td>\n",
              "    </tr>\n",
              "    <tr>\n",
              "      <th>std</th>\n",
              "      <td>7.052201e+05</td>\n",
              "      <td>8.525338e+05</td>\n",
              "      <td>0.179198</td>\n",
              "      <td>498.833165</td>\n",
              "      <td>38.577337</td>\n",
              "      <td>1.345858</td>\n",
              "    </tr>\n",
              "    <tr>\n",
              "      <th>min</th>\n",
              "      <td>1.750000e+04</td>\n",
              "      <td>1.750000e+04</td>\n",
              "      <td>0.010000</td>\n",
              "      <td>0.000000</td>\n",
              "      <td>0.000000</td>\n",
              "      <td>0.000000</td>\n",
              "    </tr>\n",
              "    <tr>\n",
              "      <th>25%</th>\n",
              "      <td>1.261812e+06</td>\n",
              "      <td>1.261812e+06</td>\n",
              "      <td>1.000000</td>\n",
              "      <td>2009.000000</td>\n",
              "      <td>83.000000</td>\n",
              "      <td>3.000000</td>\n",
              "    </tr>\n",
              "    <tr>\n",
              "      <th>50%</th>\n",
              "      <td>1.628392e+06</td>\n",
              "      <td>1.628392e+06</td>\n",
              "      <td>1.000000</td>\n",
              "      <td>2020.000000</td>\n",
              "      <td>109.000000</td>\n",
              "      <td>4.000000</td>\n",
              "    </tr>\n",
              "    <tr>\n",
              "      <th>75%</th>\n",
              "      <td>2.125000e+06</td>\n",
              "      <td>2.125547e+06</td>\n",
              "      <td>1.000000</td>\n",
              "      <td>2020.000000</td>\n",
              "      <td>127.000000</td>\n",
              "      <td>5.000000</td>\n",
              "    </tr>\n",
              "    <tr>\n",
              "      <th>max</th>\n",
              "      <td>4.300000e+06</td>\n",
              "      <td>2.000000e+07</td>\n",
              "      <td>1.000000</td>\n",
              "      <td>2023.000000</td>\n",
              "      <td>261.000000</td>\n",
              "      <td>8.000000</td>\n",
              "    </tr>\n",
              "  </tbody>\n",
              "</table>\n",
              "</div>\n",
              "      <button class=\"colab-df-convert\" onclick=\"convertToInteractive('df-0c7281df-2475-490a-b2c1-0962b201be83')\"\n",
              "              title=\"Convert this dataframe to an interactive table.\"\n",
              "              style=\"display:none;\">\n",
              "        \n",
              "  <svg xmlns=\"http://www.w3.org/2000/svg\" height=\"24px\"viewBox=\"0 0 24 24\"\n",
              "       width=\"24px\">\n",
              "    <path d=\"M0 0h24v24H0V0z\" fill=\"none\"/>\n",
              "    <path d=\"M18.56 5.44l.94 2.06.94-2.06 2.06-.94-2.06-.94-.94-2.06-.94 2.06-2.06.94zm-11 1L8.5 8.5l.94-2.06 2.06-.94-2.06-.94L8.5 2.5l-.94 2.06-2.06.94zm10 10l.94 2.06.94-2.06 2.06-.94-2.06-.94-.94-2.06-.94 2.06-2.06.94z\"/><path d=\"M17.41 7.96l-1.37-1.37c-.4-.4-.92-.59-1.43-.59-.52 0-1.04.2-1.43.59L10.3 9.45l-7.72 7.72c-.78.78-.78 2.05 0 2.83L4 21.41c.39.39.9.59 1.41.59.51 0 1.02-.2 1.41-.59l7.78-7.78 2.81-2.81c.8-.78.8-2.07 0-2.86zM5.41 20L4 18.59l7.72-7.72 1.47 1.35L5.41 20z\"/>\n",
              "  </svg>\n",
              "      </button>\n",
              "      \n",
              "  <style>\n",
              "    .colab-df-container {\n",
              "      display:flex;\n",
              "      flex-wrap:wrap;\n",
              "      gap: 12px;\n",
              "    }\n",
              "\n",
              "    .colab-df-convert {\n",
              "      background-color: #E8F0FE;\n",
              "      border: none;\n",
              "      border-radius: 50%;\n",
              "      cursor: pointer;\n",
              "      display: none;\n",
              "      fill: #1967D2;\n",
              "      height: 32px;\n",
              "      padding: 0 0 0 0;\n",
              "      width: 32px;\n",
              "    }\n",
              "\n",
              "    .colab-df-convert:hover {\n",
              "      background-color: #E2EBFA;\n",
              "      box-shadow: 0px 1px 2px rgba(60, 64, 67, 0.3), 0px 1px 3px 1px rgba(60, 64, 67, 0.15);\n",
              "      fill: #174EA6;\n",
              "    }\n",
              "\n",
              "    [theme=dark] .colab-df-convert {\n",
              "      background-color: #3B4455;\n",
              "      fill: #D2E3FC;\n",
              "    }\n",
              "\n",
              "    [theme=dark] .colab-df-convert:hover {\n",
              "      background-color: #434B5C;\n",
              "      box-shadow: 0px 1px 3px 1px rgba(0, 0, 0, 0.15);\n",
              "      filter: drop-shadow(0px 1px 2px rgba(0, 0, 0, 0.3));\n",
              "      fill: #FFFFFF;\n",
              "    }\n",
              "  </style>\n",
              "\n",
              "      <script>\n",
              "        const buttonEl =\n",
              "          document.querySelector('#df-0c7281df-2475-490a-b2c1-0962b201be83 button.colab-df-convert');\n",
              "        buttonEl.style.display =\n",
              "          google.colab.kernel.accessAllowed ? 'block' : 'none';\n",
              "\n",
              "        async function convertToInteractive(key) {\n",
              "          const element = document.querySelector('#df-0c7281df-2475-490a-b2c1-0962b201be83');\n",
              "          const dataTable =\n",
              "            await google.colab.kernel.invokeFunction('convertToInteractive',\n",
              "                                                     [key], {});\n",
              "          if (!dataTable) return;\n",
              "\n",
              "          const docLinkHtml = 'Like what you see? Visit the ' +\n",
              "            '<a target=\"_blank\" href=https://colab.research.google.com/notebooks/data_table.ipynb>data table notebook</a>'\n",
              "            + ' to learn more about interactive tables.';\n",
              "          element.innerHTML = '';\n",
              "          dataTable['output_type'] = 'display_data';\n",
              "          await google.colab.output.renderOutput(dataTable, element);\n",
              "          const docLink = document.createElement('div');\n",
              "          docLink.innerHTML = docLinkHtml;\n",
              "          element.appendChild(docLink);\n",
              "        }\n",
              "      </script>\n",
              "    </div>\n",
              "  </div>\n",
              "  "
            ]
          },
          "metadata": {},
          "execution_count": 4
        }
      ]
    },
    {
      "cell_type": "markdown",
      "source": [
        "Переименовываем колонки, приводим в адекватный вид"
      ],
      "metadata": {
        "id": "Nh2wM0_daGGV"
      }
    },
    {
      "cell_type": "code",
      "source": [
        "df1 = df\n",
        "df1.columns = ['id', 'date', 'price', 'price_value', 'type', 'part_sold', 'city', 'year_building', 'sq_meter', 'rooms']\n",
        "df1"
      ],
      "metadata": {
        "colab": {
          "base_uri": "https://localhost:8080/",
          "height": 424
        },
        "id": "2r3TZHEOZ_eU",
        "outputId": "a01a8163-2f15-4cf9-fa80-29c9a0bc10fe"
      },
      "execution_count": 5,
      "outputs": [
        {
          "output_type": "execute_result",
          "data": {
            "text/plain": [
              "                      id        date    price  price_value  \\\n",
              "0     005956-0091-005-18  01/06/2020  2330000      2330000   \n",
              "1     080073-0011-000-00  10/06/2020  1389146      1389146   \n",
              "2     080072-0026-000-00  15/06/2020  2114064      2114064   \n",
              "3     005569-0036-052-00  01/06/2020  2020000     20000000   \n",
              "4     080073-0029-002-00  01/06/2020  2152682      2152682   \n",
              "...                  ...         ...      ...          ...   \n",
              "1446  080072-0002-000-00  24/12/2020  2070132      2070132   \n",
              "1447  080072-0018-000-00  24/12/2020  2121033      2121033   \n",
              "1448  080072-0018-000-00  24/12/2020  2123854      2123854   \n",
              "1449  080072-0026-000-00  25/12/2020  2350000      2350000   \n",
              "1450  080073-0020-000-00  27/12/2020  1588668      1588668   \n",
              "\n",
              "                         type  part_sold    city  year_building  sq_meter  \\\n",
              "0     Apartment in a building        1.0  modiin           2022       121   \n",
              "1     Apartment in a building        1.0  modiin           2020       108   \n",
              "2     Apartment in a building        1.0  modiin           2020       104   \n",
              "3     Apartment in a building        1.0  modiin           1997       100   \n",
              "4     Apartment in a building        1.0  modiin           2020       128   \n",
              "...                       ...        ...     ...            ...       ...   \n",
              "1446  Apartment in a building        1.0  modiin           2020       104   \n",
              "1447  Apartment in a building        1.0  modiin           2022       147   \n",
              "1448  Apartment in a building        1.0  modiin           2022       147   \n",
              "1449  Apartment in a building        1.0  modiin           2020       133   \n",
              "1450  Apartment in a building        1.0  modiin           2020        81   \n",
              "\n",
              "      rooms  \n",
              "0       5.0  \n",
              "1       4.0  \n",
              "2       4.0  \n",
              "3       3.0  \n",
              "4       5.0  \n",
              "...     ...  \n",
              "1446    4.0  \n",
              "1447    6.0  \n",
              "1448    6.0  \n",
              "1449    5.0  \n",
              "1450    3.0  \n",
              "\n",
              "[1451 rows x 10 columns]"
            ],
            "text/html": [
              "\n",
              "  <div id=\"df-e593b66f-63f3-45f4-ae53-e9c9c9043dfa\">\n",
              "    <div class=\"colab-df-container\">\n",
              "      <div>\n",
              "<style scoped>\n",
              "    .dataframe tbody tr th:only-of-type {\n",
              "        vertical-align: middle;\n",
              "    }\n",
              "\n",
              "    .dataframe tbody tr th {\n",
              "        vertical-align: top;\n",
              "    }\n",
              "\n",
              "    .dataframe thead th {\n",
              "        text-align: right;\n",
              "    }\n",
              "</style>\n",
              "<table border=\"1\" class=\"dataframe\">\n",
              "  <thead>\n",
              "    <tr style=\"text-align: right;\">\n",
              "      <th></th>\n",
              "      <th>id</th>\n",
              "      <th>date</th>\n",
              "      <th>price</th>\n",
              "      <th>price_value</th>\n",
              "      <th>type</th>\n",
              "      <th>part_sold</th>\n",
              "      <th>city</th>\n",
              "      <th>year_building</th>\n",
              "      <th>sq_meter</th>\n",
              "      <th>rooms</th>\n",
              "    </tr>\n",
              "  </thead>\n",
              "  <tbody>\n",
              "    <tr>\n",
              "      <th>0</th>\n",
              "      <td>005956-0091-005-18</td>\n",
              "      <td>01/06/2020</td>\n",
              "      <td>2330000</td>\n",
              "      <td>2330000</td>\n",
              "      <td>Apartment in a building</td>\n",
              "      <td>1.0</td>\n",
              "      <td>modiin</td>\n",
              "      <td>2022</td>\n",
              "      <td>121</td>\n",
              "      <td>5.0</td>\n",
              "    </tr>\n",
              "    <tr>\n",
              "      <th>1</th>\n",
              "      <td>080073-0011-000-00</td>\n",
              "      <td>10/06/2020</td>\n",
              "      <td>1389146</td>\n",
              "      <td>1389146</td>\n",
              "      <td>Apartment in a building</td>\n",
              "      <td>1.0</td>\n",
              "      <td>modiin</td>\n",
              "      <td>2020</td>\n",
              "      <td>108</td>\n",
              "      <td>4.0</td>\n",
              "    </tr>\n",
              "    <tr>\n",
              "      <th>2</th>\n",
              "      <td>080072-0026-000-00</td>\n",
              "      <td>15/06/2020</td>\n",
              "      <td>2114064</td>\n",
              "      <td>2114064</td>\n",
              "      <td>Apartment in a building</td>\n",
              "      <td>1.0</td>\n",
              "      <td>modiin</td>\n",
              "      <td>2020</td>\n",
              "      <td>104</td>\n",
              "      <td>4.0</td>\n",
              "    </tr>\n",
              "    <tr>\n",
              "      <th>3</th>\n",
              "      <td>005569-0036-052-00</td>\n",
              "      <td>01/06/2020</td>\n",
              "      <td>2020000</td>\n",
              "      <td>20000000</td>\n",
              "      <td>Apartment in a building</td>\n",
              "      <td>1.0</td>\n",
              "      <td>modiin</td>\n",
              "      <td>1997</td>\n",
              "      <td>100</td>\n",
              "      <td>3.0</td>\n",
              "    </tr>\n",
              "    <tr>\n",
              "      <th>4</th>\n",
              "      <td>080073-0029-002-00</td>\n",
              "      <td>01/06/2020</td>\n",
              "      <td>2152682</td>\n",
              "      <td>2152682</td>\n",
              "      <td>Apartment in a building</td>\n",
              "      <td>1.0</td>\n",
              "      <td>modiin</td>\n",
              "      <td>2020</td>\n",
              "      <td>128</td>\n",
              "      <td>5.0</td>\n",
              "    </tr>\n",
              "    <tr>\n",
              "      <th>...</th>\n",
              "      <td>...</td>\n",
              "      <td>...</td>\n",
              "      <td>...</td>\n",
              "      <td>...</td>\n",
              "      <td>...</td>\n",
              "      <td>...</td>\n",
              "      <td>...</td>\n",
              "      <td>...</td>\n",
              "      <td>...</td>\n",
              "      <td>...</td>\n",
              "    </tr>\n",
              "    <tr>\n",
              "      <th>1446</th>\n",
              "      <td>080072-0002-000-00</td>\n",
              "      <td>24/12/2020</td>\n",
              "      <td>2070132</td>\n",
              "      <td>2070132</td>\n",
              "      <td>Apartment in a building</td>\n",
              "      <td>1.0</td>\n",
              "      <td>modiin</td>\n",
              "      <td>2020</td>\n",
              "      <td>104</td>\n",
              "      <td>4.0</td>\n",
              "    </tr>\n",
              "    <tr>\n",
              "      <th>1447</th>\n",
              "      <td>080072-0018-000-00</td>\n",
              "      <td>24/12/2020</td>\n",
              "      <td>2121033</td>\n",
              "      <td>2121033</td>\n",
              "      <td>Apartment in a building</td>\n",
              "      <td>1.0</td>\n",
              "      <td>modiin</td>\n",
              "      <td>2022</td>\n",
              "      <td>147</td>\n",
              "      <td>6.0</td>\n",
              "    </tr>\n",
              "    <tr>\n",
              "      <th>1448</th>\n",
              "      <td>080072-0018-000-00</td>\n",
              "      <td>24/12/2020</td>\n",
              "      <td>2123854</td>\n",
              "      <td>2123854</td>\n",
              "      <td>Apartment in a building</td>\n",
              "      <td>1.0</td>\n",
              "      <td>modiin</td>\n",
              "      <td>2022</td>\n",
              "      <td>147</td>\n",
              "      <td>6.0</td>\n",
              "    </tr>\n",
              "    <tr>\n",
              "      <th>1449</th>\n",
              "      <td>080072-0026-000-00</td>\n",
              "      <td>25/12/2020</td>\n",
              "      <td>2350000</td>\n",
              "      <td>2350000</td>\n",
              "      <td>Apartment in a building</td>\n",
              "      <td>1.0</td>\n",
              "      <td>modiin</td>\n",
              "      <td>2020</td>\n",
              "      <td>133</td>\n",
              "      <td>5.0</td>\n",
              "    </tr>\n",
              "    <tr>\n",
              "      <th>1450</th>\n",
              "      <td>080073-0020-000-00</td>\n",
              "      <td>27/12/2020</td>\n",
              "      <td>1588668</td>\n",
              "      <td>1588668</td>\n",
              "      <td>Apartment in a building</td>\n",
              "      <td>1.0</td>\n",
              "      <td>modiin</td>\n",
              "      <td>2020</td>\n",
              "      <td>81</td>\n",
              "      <td>3.0</td>\n",
              "    </tr>\n",
              "  </tbody>\n",
              "</table>\n",
              "<p>1451 rows × 10 columns</p>\n",
              "</div>\n",
              "      <button class=\"colab-df-convert\" onclick=\"convertToInteractive('df-e593b66f-63f3-45f4-ae53-e9c9c9043dfa')\"\n",
              "              title=\"Convert this dataframe to an interactive table.\"\n",
              "              style=\"display:none;\">\n",
              "        \n",
              "  <svg xmlns=\"http://www.w3.org/2000/svg\" height=\"24px\"viewBox=\"0 0 24 24\"\n",
              "       width=\"24px\">\n",
              "    <path d=\"M0 0h24v24H0V0z\" fill=\"none\"/>\n",
              "    <path d=\"M18.56 5.44l.94 2.06.94-2.06 2.06-.94-2.06-.94-.94-2.06-.94 2.06-2.06.94zm-11 1L8.5 8.5l.94-2.06 2.06-.94-2.06-.94L8.5 2.5l-.94 2.06-2.06.94zm10 10l.94 2.06.94-2.06 2.06-.94-2.06-.94-.94-2.06-.94 2.06-2.06.94z\"/><path d=\"M17.41 7.96l-1.37-1.37c-.4-.4-.92-.59-1.43-.59-.52 0-1.04.2-1.43.59L10.3 9.45l-7.72 7.72c-.78.78-.78 2.05 0 2.83L4 21.41c.39.39.9.59 1.41.59.51 0 1.02-.2 1.41-.59l7.78-7.78 2.81-2.81c.8-.78.8-2.07 0-2.86zM5.41 20L4 18.59l7.72-7.72 1.47 1.35L5.41 20z\"/>\n",
              "  </svg>\n",
              "      </button>\n",
              "      \n",
              "  <style>\n",
              "    .colab-df-container {\n",
              "      display:flex;\n",
              "      flex-wrap:wrap;\n",
              "      gap: 12px;\n",
              "    }\n",
              "\n",
              "    .colab-df-convert {\n",
              "      background-color: #E8F0FE;\n",
              "      border: none;\n",
              "      border-radius: 50%;\n",
              "      cursor: pointer;\n",
              "      display: none;\n",
              "      fill: #1967D2;\n",
              "      height: 32px;\n",
              "      padding: 0 0 0 0;\n",
              "      width: 32px;\n",
              "    }\n",
              "\n",
              "    .colab-df-convert:hover {\n",
              "      background-color: #E2EBFA;\n",
              "      box-shadow: 0px 1px 2px rgba(60, 64, 67, 0.3), 0px 1px 3px 1px rgba(60, 64, 67, 0.15);\n",
              "      fill: #174EA6;\n",
              "    }\n",
              "\n",
              "    [theme=dark] .colab-df-convert {\n",
              "      background-color: #3B4455;\n",
              "      fill: #D2E3FC;\n",
              "    }\n",
              "\n",
              "    [theme=dark] .colab-df-convert:hover {\n",
              "      background-color: #434B5C;\n",
              "      box-shadow: 0px 1px 3px 1px rgba(0, 0, 0, 0.15);\n",
              "      filter: drop-shadow(0px 1px 2px rgba(0, 0, 0, 0.3));\n",
              "      fill: #FFFFFF;\n",
              "    }\n",
              "  </style>\n",
              "\n",
              "      <script>\n",
              "        const buttonEl =\n",
              "          document.querySelector('#df-e593b66f-63f3-45f4-ae53-e9c9c9043dfa button.colab-df-convert');\n",
              "        buttonEl.style.display =\n",
              "          google.colab.kernel.accessAllowed ? 'block' : 'none';\n",
              "\n",
              "        async function convertToInteractive(key) {\n",
              "          const element = document.querySelector('#df-e593b66f-63f3-45f4-ae53-e9c9c9043dfa');\n",
              "          const dataTable =\n",
              "            await google.colab.kernel.invokeFunction('convertToInteractive',\n",
              "                                                     [key], {});\n",
              "          if (!dataTable) return;\n",
              "\n",
              "          const docLinkHtml = 'Like what you see? Visit the ' +\n",
              "            '<a target=\"_blank\" href=https://colab.research.google.com/notebooks/data_table.ipynb>data table notebook</a>'\n",
              "            + ' to learn more about interactive tables.';\n",
              "          element.innerHTML = '';\n",
              "          dataTable['output_type'] = 'display_data';\n",
              "          await google.colab.output.renderOutput(dataTable, element);\n",
              "          const docLink = document.createElement('div');\n",
              "          docLink.innerHTML = docLinkHtml;\n",
              "          element.appendChild(docLink);\n",
              "        }\n",
              "      </script>\n",
              "    </div>\n",
              "  </div>\n",
              "  "
            ]
          },
          "metadata": {},
          "execution_count": 5
        }
      ]
    },
    {
      "cell_type": "markdown",
      "source": [
        "Выведем текущие столбы по датасету и ознакомимся с их типом данных"
      ],
      "metadata": {
        "id": "5LYHvQAradOe"
      }
    },
    {
      "cell_type": "code",
      "source": [
        "df1.dtypes"
      ],
      "metadata": {
        "colab": {
          "base_uri": "https://localhost:8080/"
        },
        "id": "exjLOd1uB0MQ",
        "outputId": "7b3f5fb4-590f-4639-8e8b-529e384d606c"
      },
      "execution_count": 6,
      "outputs": [
        {
          "output_type": "execute_result",
          "data": {
            "text/plain": [
              "id                object\n",
              "date              object\n",
              "price              int64\n",
              "price_value        int64\n",
              "type              object\n",
              "part_sold        float64\n",
              "city              object\n",
              "year_building      int64\n",
              "sq_meter           int64\n",
              "rooms            float64\n",
              "dtype: object"
            ]
          },
          "metadata": {},
          "execution_count": 6
        }
      ]
    },
    {
      "cell_type": "markdown",
      "source": [
        "Преобразуем тип данных в колонках date и rooms в форматы дата и целочисленный типы соответственно"
      ],
      "metadata": {
        "id": "KJ4vjkmgbQPy"
      }
    },
    {
      "cell_type": "code",
      "source": [
        "df1['date'] = pd.to_datetime(df1['date'])\n",
        "df1.dtypes"
      ],
      "metadata": {
        "colab": {
          "base_uri": "https://localhost:8080/"
        },
        "id": "0I3jq6VRbNqv",
        "outputId": "7a1eb5e9-600d-42bd-a983-8c71af9b3142"
      },
      "execution_count": 7,
      "outputs": [
        {
          "output_type": "execute_result",
          "data": {
            "text/plain": [
              "id                       object\n",
              "date             datetime64[ns]\n",
              "price                     int64\n",
              "price_value               int64\n",
              "type                     object\n",
              "part_sold               float64\n",
              "city                     object\n",
              "year_building             int64\n",
              "sq_meter                  int64\n",
              "rooms                   float64\n",
              "dtype: object"
            ]
          },
          "metadata": {},
          "execution_count": 7
        }
      ]
    },
    {
      "cell_type": "code",
      "source": [
        "df1['rooms'] = df1['rooms'].astype('int64')\n",
        "df.info()"
      ],
      "metadata": {
        "colab": {
          "base_uri": "https://localhost:8080/"
        },
        "id": "AfQrihHXdSiQ",
        "outputId": "1e251300-c14f-4f8f-d05d-c1b2dc6633de"
      },
      "execution_count": 8,
      "outputs": [
        {
          "output_type": "stream",
          "name": "stdout",
          "text": [
            "<class 'pandas.core.frame.DataFrame'>\n",
            "RangeIndex: 1451 entries, 0 to 1450\n",
            "Data columns (total 10 columns):\n",
            " #   Column         Non-Null Count  Dtype         \n",
            "---  ------         --------------  -----         \n",
            " 0   id             1451 non-null   object        \n",
            " 1   date           1451 non-null   datetime64[ns]\n",
            " 2   price          1451 non-null   int64         \n",
            " 3   price_value    1451 non-null   int64         \n",
            " 4   type           1451 non-null   object        \n",
            " 5   part_sold      1451 non-null   float64       \n",
            " 6   city           1451 non-null   object        \n",
            " 7   year_building  1451 non-null   int64         \n",
            " 8   sq_meter       1451 non-null   int64         \n",
            " 9   rooms          1451 non-null   int64         \n",
            "dtypes: datetime64[ns](1), float64(1), int64(5), object(3)\n",
            "memory usage: 113.5+ KB\n"
          ]
        }
      ]
    },
    {
      "cell_type": "markdown",
      "source": [
        "Добавляем дополнительную колонку - месяц публикации (год везде одинаковый, 2020)"
      ],
      "metadata": {
        "id": "LNFbha4UcYx9"
      }
    },
    {
      "cell_type": "code",
      "source": [
        "df1['month']=pd.DatetimeIndex(df1['date']).month\n",
        "df1.info()"
      ],
      "metadata": {
        "colab": {
          "base_uri": "https://localhost:8080/"
        },
        "id": "jYDScdV3mGgA",
        "outputId": "600962f9-6c4e-4fbf-da83-d9726547deea"
      },
      "execution_count": 11,
      "outputs": [
        {
          "output_type": "stream",
          "name": "stdout",
          "text": [
            "<class 'pandas.core.frame.DataFrame'>\n",
            "RangeIndex: 1451 entries, 0 to 1450\n",
            "Data columns (total 11 columns):\n",
            " #   Column         Non-Null Count  Dtype         \n",
            "---  ------         --------------  -----         \n",
            " 0   id             1451 non-null   object        \n",
            " 1   date           1451 non-null   datetime64[ns]\n",
            " 2   price          1451 non-null   int64         \n",
            " 3   price_value    1451 non-null   int64         \n",
            " 4   type           1451 non-null   object        \n",
            " 5   part_sold      1451 non-null   float64       \n",
            " 6   city           1451 non-null   object        \n",
            " 7   year_building  1451 non-null   int64         \n",
            " 8   sq_meter       1451 non-null   int64         \n",
            " 9   rooms          1451 non-null   int64         \n",
            " 10  month          1451 non-null   int64         \n",
            "dtypes: datetime64[ns](1), float64(1), int64(6), object(3)\n",
            "memory usage: 124.8+ KB\n"
          ]
        }
      ]
    },
    {
      "cell_type": "markdown",
      "source": [
        "Определяем квартиры с каким количеством комнат продают больше"
      ],
      "metadata": {
        "id": "8HiZ-PKFesVC"
      }
    },
    {
      "cell_type": "code",
      "source": [
        "df2 = df1\n",
        "sns.countplot(df2['rooms'])\n",
        "plt.show"
      ],
      "metadata": {
        "colab": {
          "base_uri": "https://localhost:8080/",
          "height": 296
        },
        "id": "gYA1KzhRfKbQ",
        "outputId": "066fb49e-225a-4853-84d1-30c2148bb02f"
      },
      "execution_count": 12,
      "outputs": [
        {
          "output_type": "execute_result",
          "data": {
            "text/plain": [
              "<function matplotlib.pyplot.show(close=None, block=None)>"
            ]
          },
          "metadata": {},
          "execution_count": 12
        },
        {
          "output_type": "display_data",
          "data": {
            "text/plain": [
              "<Figure size 432x288 with 1 Axes>"
            ],
            "image/png": "[encoded data removed]"
          },
          "metadata": {
            "needs_background": "light"
          }
        }
      ]
    },
    {
      "cell_type": "markdown",
      "source": [
        "Вывод: Наиболее популярные квартиры в городе Модиин в Израиле с 4 комнатами, на втором месте - 3 и 5 комнатные. "
      ],
      "metadata": {
        "id": "7mmNmhQ3hxmM"
      }
    },
    {
      "cell_type": "markdown",
      "source": [
        "Определяем квартиры в домах какого года постройки продают в 2020 году больше"
      ],
      "metadata": {
        "id": "CnDcXJJKi4xl"
      }
    },
    {
      "cell_type": "code",
      "source": [
        "sns.countplot(df2['year_building'])\n",
        "plt.show"
      ],
      "metadata": {
        "colab": {
          "base_uri": "https://localhost:8080/",
          "height": 297
        },
        "id": "rYOMjOO_jI49",
        "outputId": "e121315a-cec4-49f0-b514-da3590532dde"
      },
      "execution_count": 14,
      "outputs": [
        {
          "output_type": "execute_result",
          "data": {
            "text/plain": [
              "<function matplotlib.pyplot.show(close=None, block=None)>"
            ]
          },
          "metadata": {},
          "execution_count": 14
        },
        {
          "output_type": "display_data",
          "data": {
            "text/plain": [
              "<Figure size 432x288 with 1 Axes>"
            ],
            "image/png": "[encoded data removed]"
          },
          "metadata": {
            "needs_background": "light"
          }
        }
      ]
    },
    {
      "cell_type": "markdown",
      "source": [
        "Слишком большой разнос, находим и убираем выбросы."
      ],
      "metadata": {
        "id": "7z7UBnw5k3UN"
      }
    },
    {
      "cell_type": "code",
      "source": [
        "ax=df2.boxplot('year_building', vert=False, figsize=(15,2), patch_artist=True, flierprops=dict(markeredgecolor=\"#e0434b\"),\n",
        "            medianprops=dict(color='#71c451'))\n",
        "ax.set_yticklabels(['Год постройки'])\n",
        "plt.show()"
      ],
      "metadata": {
        "colab": {
          "base_uri": "https://localhost:8080/",
          "height": 157
        },
        "id": "TZPLOK5fjQIG",
        "outputId": "6a327cd3-c8a6-4ae7-fe45-abfd68735d16"
      },
      "execution_count": 15,
      "outputs": [
        {
          "output_type": "display_data",
          "data": {
            "text/plain": [
              "<Figure size 1080x144 with 1 Axes>"
            ],
            "image/png": "[encoded data removed]"
          },
          "metadata": {
            "needs_background": "light"
          }
        }
      ]
    },
    {
      "cell_type": "code",
      "source": [
        "df2.drop(df2[df2['year_building'] < 2013].index, inplace=True)\n",
        "ax=df1.boxplot('year_building', vert=False, figsize=(15,2), patch_artist=True, flierprops=dict(markeredgecolor=\"#e0434b\"),\n",
        "            medianprops=dict(color='#71c451'))\n",
        "ax.set_yticklabels(['год постройки'])\n",
        "plt.show()"
      ],
      "metadata": {
        "colab": {
          "base_uri": "https://localhost:8080/",
          "height": 157
        },
        "id": "yfGnIDB4jZ5J",
        "outputId": "e217c04d-11ca-40fd-a067-646e9abcfe21"
      },
      "execution_count": 21,
      "outputs": [
        {
          "output_type": "display_data",
          "data": {
            "text/plain": [
              "<Figure size 1080x144 with 1 Axes>"
            ],
            "image/png": "[encoded data removed]"
          },
          "metadata": {
            "needs_background": "light"
          }
        }
      ]
    },
    {
      "cell_type": "code",
      "source": [
        "sns.countplot(df2['year_building'])\n",
        "plt.show"
      ],
      "metadata": {
        "colab": {
          "base_uri": "https://localhost:8080/",
          "height": 297
        },
        "id": "DSQxCEYClelS",
        "outputId": "981e782f-8106-42fa-d167-115c410af8f7"
      },
      "execution_count": 22,
      "outputs": [
        {
          "output_type": "execute_result",
          "data": {
            "text/plain": [
              "<function matplotlib.pyplot.show(close=None, block=None)>"
            ]
          },
          "metadata": {},
          "execution_count": 22
        },
        {
          "output_type": "display_data",
          "data": {
            "text/plain": [
              "<Figure size 432x288 with 1 Axes>"
            ],
            "image/png": "[encoded data removed]"
          },
          "metadata": {
            "needs_background": "light"
          }
        }
      ]
    },
    {
      "cell_type": "markdown",
      "source": [
        "Вывод: Наибольшее количество квартир в объявлениях о продаже свежие, построенные в 2020 году"
      ],
      "metadata": {
        "id": "xhnf4wXzlEvb"
      }
    },
    {
      "cell_type": "markdown",
      "source": [
        "Определяем наиболее популярные месяцы для объявлений о продажах квартир в 2020 году"
      ],
      "metadata": {
        "id": "gMXo9LYplhk7"
      }
    },
    {
      "cell_type": "code",
      "source": [
        "sns.countplot(df2['month'])\n",
        "plt.show"
      ],
      "metadata": {
        "colab": {
          "base_uri": "https://localhost:8080/",
          "height": 296
        },
        "id": "6dtQjMTImYfJ",
        "outputId": "dcf18a26-6c02-4dfa-d9e5-c8c9326700b8"
      },
      "execution_count": 72,
      "outputs": [
        {
          "output_type": "execute_result",
          "data": {
            "text/plain": [
              "<function matplotlib.pyplot.show(close=None, block=None)>"
            ]
          },
          "metadata": {},
          "execution_count": 72
        },
        {
          "output_type": "display_data",
          "data": {
            "text/plain": [
              "<Figure size 432x288 with 1 Axes>"
            ],
            "image/png": "[encoded data removed]"
          },
          "metadata": {
            "needs_background": "light"
          }
        }
      ]
    },
    {
      "cell_type": "markdown",
      "source": [
        "Вывод: Летом (особенно в июле и июне) замечен пик подачи объявлений, похожий пик замечен в октябре, а зимой и весной объявлений было мало."
      ],
      "metadata": {
        "id": "rxxWYISum2OK"
      }
    },
    {
      "cell_type": "markdown",
      "source": [
        "Определим в каком месяце замечен пик роста цен на недвижимость"
      ],
      "metadata": {
        "id": "HbJwJjpdoGGX"
      }
    },
    {
      "cell_type": "code",
      "source": [
        "df3 = df2.groupby('month')['price'].mean()\n",
        "df3.plot(kind='line',figsize=(10,10))\n",
        "plt.title('Рост цен на квартиры по месяцам', size=14)\n",
        "plt.xlabel('Месяц')\n",
        "plt.ylabel('Цена за квартиру')\n",
        "plt.show()"
      ],
      "metadata": {
        "colab": {
          "base_uri": "https://localhost:8080/",
          "height": 623
        },
        "id": "20KKzUFinS9Y",
        "outputId": "3ced9075-8a32-40b8-ca78-30ce53b01718"
      },
      "execution_count": 29,
      "outputs": [
        {
          "output_type": "display_data",
          "data": {
            "text/plain": [
              "<Figure size 720x720 with 1 Axes>"
            ],
            "image/png": "[encoded data removed]"
          },
          "metadata": {
            "needs_background": "light"
          }
        }
      ]
    },
    {
      "cell_type": "markdown",
      "source": [
        "Вывод: Наибольшие цены на квартиры были замечены в ноябре. Что интересно, если посмотреть на предыдущий график, то можно увидеть, что пик произошел сразу перед \"затишьем\", когда объявлений о продаже стало намного меньше, которое длилось до июня. "
      ],
      "metadata": {
        "id": "tNo9qoIFo6at"
      }
    }
  ]
}