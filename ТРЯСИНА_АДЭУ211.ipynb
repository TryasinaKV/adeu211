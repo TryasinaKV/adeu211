{
  "nbformat": 4,
  "nbformat_minor": 0,
  "metadata": {
    "colab": {
      "name": "ТРЯСИНА_АДЭУ211",
      "provenance": [],
      "authorship_tag": "ABX9TyM6JBmze6HmmbS0uyt4HdTN",
      "include_colab_link": true
    },
    "kernelspec": {
      "name": "python3",
      "display_name": "Python 3"
    },
    "language_info": {
      "name": "python"
    }
  },
  "cells": [
    {
      "cell_type": "markdown",
      "metadata": {
        "id": "view-in-github",
        "colab_type": "text"
      },
      "source": [
        "<a href=\"https://colab.research.google.com/github/TryasinaKV/adeu211/blob/main/%D0%A2%D0%A0%D0%AF%D0%A1%D0%98%D0%9D%D0%90_%D0%90%D0%94%D0%AD%D0%A3211.ipynb\" target=\"_parent\"><img src=\"https://colab.research.google.com/assets/colab-badge.svg\" alt=\"Open In Colab\"/></a>"
      ]
    },
    {
      "cell_type": "code",
      "source": [
        "class Figure:\n",
        "  color = \"White\"\n",
        "\n",
        "  def change_color(self):\n",
        "     \n",
        "      print( \"Цвет фигуры изменен на {}\".format(self.color))\n",
        "\n",
        "class Oval(Figure):\n",
        "  def __init__(self,big_r, small_r):\n",
        "    self.big_r = big_r\n",
        "    self.small_r = small_r\n",
        "\n",
        "  def sizes(self):\n",
        "    return \"Начальные размеры овала: {} & {}\".format(self.big_r, self.small_r)\n",
        "\n",
        "class Square(Figure):\n",
        "  def __init__(self,a):\n",
        "    self.a = a\n",
        "\n",
        "  def sizes(self):\n",
        "    return \"Pазмеры квадрата: {}\".format(self.a)\n",
        "\n",
        "f1 = Oval(23,4)\n",
        "\n",
        "print(f1.sizes())\n",
        "f1.change_color()"
      ],
      "metadata": {
        "colab": {
          "base_uri": "https://localhost:8080/"
        },
        "id": "gU7zWDCOkorV",
        "outputId": "56f1244e-6b95-4c8a-e797-35c258e0636d"
      },
      "execution_count": null,
      "outputs": [
        {
          "output_type": "stream",
          "name": "stdout",
          "text": [
            "Начальные размеры овала: 23 & 4\n",
            "Цвет фигуры изменен на White\n"
          ]
        }
      ]
    }
  ]
}