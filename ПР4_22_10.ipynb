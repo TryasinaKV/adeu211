{
  "nbformat": 4,
  "nbformat_minor": 0,
  "metadata": {
    "colab": {
      "name": "ПР4/22.10.ipynb",
      "provenance": [],
      "collapsed_sections": [],
      "authorship_tag": "ABX9TyMvQxwNwmnwLtiMEQlDhFZS",
      "include_colab_link": true
    },
    "kernelspec": {
      "name": "python3",
      "display_name": "Python 3"
    },
    "language_info": {
      "name": "python"
    }
  },
  "cells": [
    {
      "cell_type": "markdown",
      "metadata": {
        "id": "view-in-github",
        "colab_type": "text"
      },
      "source": [
        "<a href=\"https://colab.research.google.com/github/TryasinaKV/adeu211/blob/main/%D0%9F%D0%A04_22_10.ipynb\" target=\"_parent\"><img src=\"https://colab.research.google.com/assets/colab-badge.svg\" alt=\"Open In Colab\"/></a>"
      ]
    },
    {
      "cell_type": "markdown",
      "metadata": {
        "id": "m3OteoH2VcUf"
      },
      "source": [
        "![Снимок2 Таблица.PNG](data:image/png;base64,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)"
      ]
    },
    {
      "cell_type": "code",
      "metadata": {
        "id": "P9AWHpiv6YqU"
      },
      "source": [
        "# Практическая работа 4, Вариант 15, выполнила Трясина К. АДЭУ-211\n",
        "class Product:\n",
        "  def __init__(self, size, weight):\n",
        "    self.weight = weight\n",
        "    self.size = size\n",
        "\n",
        "  def determinant(self):\n",
        "    if self.weight > 25:\n",
        "      return 'Вес товара превышает допустимое значение в'\n",
        "    if self.weight < 1:\n",
        "      return 'Недопустимый вес товара в'\n",
        "    else:\n",
        "      return self.weight\n",
        "  \n",
        "  def code(self):\n",
        "      return str(self.weight) + str(self.size) + '2021'\n",
        "\n",
        "class Bike(Product):\n",
        "  def __init__(self, size, weight, speed, price):\n",
        "    Product.__init__(self, size, weight)\n",
        "    self.speed = speed\n",
        "    self.price = price\n",
        "\n",
        "  def cost(self):\n",
        "    if self.speed > 30:\n",
        "      a = self.price * 2\n",
        "      return a\n",
        "    else:\n",
        "      return self.price\n",
        "\n",
        "class Scooter(Product):\n",
        "  def __init__(self, size, weight, equipment, price):\n",
        "    Product.__init__(self, size, weight)\n",
        "    self.equipment = equipment\n",
        "    self.price = price\n",
        "\n",
        "  def cost(self):\n",
        "    if self.equipment == True:\n",
        "      a = self.price + 1000\n",
        "      return a\n",
        "    else:\n",
        "      return self.price\n",
        "\n",
        "class Mountain_Bike(Bike):\n",
        "  def __init__(self, size, weight, speed, price, discount):\n",
        "    Bike.__init__(self, size, weight, speed, price)\n",
        "    self.discount = discount\n",
        "\n",
        "  def present(self):\n",
        "    if self.discount == True:\n",
        "      return 'Вы получаете скидку на следующую покупку!'\n",
        "    else:\n",
        "      return 'нет'"
      ],
      "execution_count": null,
      "outputs": []
    },
    {
      "cell_type": "code",
      "metadata": {
        "colab": {
          "base_uri": "https://localhost:8080/"
        },
        "id": "rd9GqkqaoNYL",
        "outputId": "738ee1c7-f5a8-44bd-ba23-17be240fcd5d"
      },
      "source": [
        "print('Товар 1:')\n",
        "box_1 = Scooter(78, 3, True, 3500)\n",
        "print('Вес:', box_1.determinant(), 'кг')\n",
        "print('Код:', box_1.code())\n",
        "print('Конечная стоимость:', box_1.cost(),\"руб\")\n",
        "print('Товар 2:')\n",
        "box_2 = Bike(89, 20, 32, 5000)\n",
        "print('Вес:', box_2.determinant(), 'кг')\n",
        "print('Код:', box_2.code())\n",
        "print('Конечная стоимость:', box_2.cost(), 'руб')\n",
        "print('Товар 3:')\n",
        "box_3 = Scooter(70, 40, True, 3000)\n",
        "print('Вес:', box_3.determinant(), 'кг')\n",
        "print('Код:', box_3.code())\n",
        "print('Конечная стоимость:', box_3.cost(), 'руб')\n",
        "print('Товар 4:')\n",
        "box_4 = Mountain_Bike(90, 19, 35, 6500, True)\n",
        "print('Вес:', box_4.determinant(), 'кг')\n",
        "print('Код:', box_4.code())\n",
        "print('Конечная стоимость:', box_4.cost())\n",
        "print('Бонус:', box_4.present())\n",
        "\n"
      ],
      "execution_count": null,
      "outputs": [
        {
          "output_type": "stream",
          "name": "stdout",
          "text": [
            "Товар 1:\n",
            "Вес: 3 кг\n",
            "Код: 3782021\n",
            "Конечная стоимость: 4500 руб\n",
            "Товар 2:\n",
            "Вес: 20 кг\n",
            "Код: 20892021\n",
            "Конечная стоимость: 10000 руб\n",
            "Товар 3:\n",
            "Вес: Вес товара превышает допустимое значение в кг\n",
            "Код: 40702021\n",
            "Конечная стоимость: 4000 руб\n",
            "Товар 4:\n",
            "Вес: 19 кг\n",
            "Код: 19902021\n",
            "Конечная стоимость: 13000\n",
            "Бонус: Вы получаете скидку на следующую покупку!\n"
          ]
        }
      ]
    }
  ]
}