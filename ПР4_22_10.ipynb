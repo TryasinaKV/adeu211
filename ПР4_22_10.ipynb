{
  "nbformat": 4,
  "nbformat_minor": 0,
  "metadata": {
    "colab": {
      "name": "ПР4/22.10.ipynb",
      "provenance": [],
      "collapsed_sections": [],
      "authorship_tag": "ABX9TyNSY3cRXjD4bxX2ozzmj0rT",
      "include_colab_link": true
    },
    "kernelspec": {
      "name": "python3",
      "display_name": "Python 3"
    },
    "language_info": {
      "name": "python"
    }
  },
  "cells": [
    {
      "cell_type": "markdown",
      "metadata": {
        "id": "view-in-github",
        "colab_type": "text"
      },
      "source": [
        "<a href=\"https://colab.research.google.com/github/TryasinaKV/adeu211/blob/main/%D0%9F%D0%A04_22_10.ipynb\" target=\"_parent\"><img src=\"https://colab.research.google.com/assets/colab-badge.svg\" alt=\"Open In Colab\"/></a>"
      ]
    },
    {
      "cell_type": "markdown",
      "metadata": {
        "id": "JKgnB9fw51-J"
      },
      "source": [
        "![Снимок ТАБЛИЦА.PNG](data:image/png;base64,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)"
      ]
    },
    {
      "cell_type": "code",
      "metadata": {
        "id": "P9AWHpiv6YqU"
      },
      "source": [
        "# Практическая работа 4, Вариант 15, выполнила Трясина К. АДЭУ-211\n",
        "class Product:\n",
        "  def __init__(self, size, weight):\n",
        "    self.weight = weight\n",
        "    self.size = size\n",
        "\n",
        "  def determinant(self):\n",
        "    if self.weight > 25:\n",
        "      return 'Вес товара превышает допустимое значение в'\n",
        "    if self.weight < 1:\n",
        "      return 'Недопустимый вес товара в'\n",
        "    else:\n",
        "      return self.weight\n",
        "  \n",
        "  def code(self):\n",
        "      return str(self.weight) + str(self.size) + '2021'\n",
        "\n",
        "class Bike(Product):\n",
        "  def __init__(self, size, weight, speed, price):\n",
        "    Product.__init__(self, size, weight)\n",
        "    self.speed = speed\n",
        "    self.price = price\n",
        "\n",
        "  def cost(self):\n",
        "    if self.speed > 30:\n",
        "      a = self.price * 2\n",
        "      return a\n",
        "    else:\n",
        "      return self.price\n",
        "\n",
        "class Scooter(Product):\n",
        "  def __init__(self, size, weight, equipment, price):\n",
        "    Product.__init__(self, size, weight)\n",
        "    self.equipment = equipment\n",
        "    self.price = price\n",
        "\n",
        "  def cost(self):\n",
        "    if self.equipment == True:\n",
        "      a = self.price + 1000\n",
        "      return a\n",
        "    else:\n",
        "      return self.price\n",
        "\n",
        "class Mountain_Bike(Bike):\n",
        "  def __init__(self, size, weight, speed, price, discount):\n",
        "    Bike.__init__(self, size, weight, speed, price)\n",
        "    self.discount = discount\n",
        "\n",
        "  def present(self):\n",
        "    if self.discount == True:\n",
        "      return 'Вы получаете скидку на следующую покупку!'\n",
        "    else:\n",
        "      return 'нет'"
      ],
      "execution_count": 9,
      "outputs": []
    },
    {
      "cell_type": "code",
      "metadata": {
        "colab": {
          "base_uri": "https://localhost:8080/"
        },
        "id": "rd9GqkqaoNYL",
        "outputId": "738ee1c7-f5a8-44bd-ba23-17be240fcd5d"
      },
      "source": [
        "print('Товар 1:')\n",
        "box_1 = Scooter(78, 3, True, 3500)\n",
        "print('Вес:', box_1.determinant(), 'кг')\n",
        "print('Код:', box_1.code())\n",
        "print('Конечная стоимость:', box_1.cost(),\"руб\")\n",
        "print('Товар 2:')\n",
        "box_2 = Bike(89, 20, 32, 5000)\n",
        "print('Вес:', box_2.determinant(), 'кг')\n",
        "print('Код:', box_2.code())\n",
        "print('Конечная стоимость:', box_2.cost(), 'руб')\n",
        "print('Товар 3:')\n",
        "box_3 = Scooter(70, 40, True, 3000)\n",
        "print('Вес:', box_3.determinant(), 'кг')\n",
        "print('Код:', box_3.code())\n",
        "print('Конечная стоимость:', box_3.cost(), 'руб')\n",
        "print('Товар 4:')\n",
        "box_4 = Mountain_Bike(90, 19, 35, 6500, True)\n",
        "print('Вес:', box_4.determinant(), 'кг')\n",
        "print('Код:', box_4.code())\n",
        "print('Конечная стоимость:', box_4.cost())\n",
        "print('Бонус:', box_4.present())\n",
        "\n"
      ],
      "execution_count": 10,
      "outputs": [
        {
          "output_type": "stream",
          "name": "stdout",
          "text": [
            "Товар 1:\n",
            "Вес: 3 кг\n",
            "Код: 3782021\n",
            "Конечная стоимость: 4500 руб\n",
            "Товар 2:\n",
            "Вес: 20 кг\n",
            "Код: 20892021\n",
            "Конечная стоимость: 10000 руб\n",
            "Товар 3:\n",
            "Вес: Вес товара превышает допустимое значение в кг\n",
            "Код: 40702021\n",
            "Конечная стоимость: 4000 руб\n",
            "Товар 4:\n",
            "Вес: 19 кг\n",
            "Код: 19902021\n",
            "Конечная стоимость: 13000\n",
            "Бонус: Вы получаете скидку на следующую покупку!\n"
          ]
        }
      ]
    }
  ]
}